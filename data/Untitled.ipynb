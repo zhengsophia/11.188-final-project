{
 "cells": [
  {
   "cell_type": "code",
   "execution_count": 1,
   "id": "93399822",
   "metadata": {},
   "outputs": [],
   "source": [
    "import pandas as pd"
   ]
  },
  {
   "cell_type": "code",
   "execution_count": 13,
   "id": "a87b53fc",
   "metadata": {},
   "outputs": [],
   "source": [
    "df_19 = pd.read_csv(\"/Users/sophiazheng/Downloads/data/safegraph_orig/april_2019.csv\")\n",
    "df_20 = pd.read_csv(\"/Users/sophiazheng/Downloads/data/safegraph_orig/april_2020.csv\")\n",
    "df_21 = pd.read_csv(\"/Users/sophiazheng/Downloads/data/safegraph_orig/april_2021.csv\")"
   ]
  },
  {
   "cell_type": "code",
   "execution_count": 15,
   "id": "46e5c71e",
   "metadata": {},
   "outputs": [],
   "source": [
    "df_19_sum = df_19.groupby(\"postal_code\").sum()\n",
    "df_20_sum = df_20.groupby(\"postal_code\").sum()\n",
    "df_21_sum = df_21.groupby(\"postal_code\").sum()"
   ]
  },
  {
   "cell_type": "code",
   "execution_count": 17,
   "id": "7a033608",
   "metadata": {},
   "outputs": [],
   "source": [
    "df_19_sum.to_csv(\"/Users/sophiazheng/Downloads/data/april_2019_sum.csv\", index=True)\n",
    "df_20_sum.to_csv(\"/Users/sophiazheng/Downloads/data/april_2020_sum.csv\", index=True)\n",
    "df_21_sum.to_csv(\"/Users/sophiazheng/Downloads/data/april_2021_sum.csv\", index=True)"
   ]
  },
  {
   "cell_type": "code",
   "execution_count": 18,
   "id": "b2a40e96",
   "metadata": {},
   "outputs": [
    {
     "data": {
      "text/html": [
       "<div>\n",
       "<style scoped>\n",
       "    .dataframe tbody tr th:only-of-type {\n",
       "        vertical-align: middle;\n",
       "    }\n",
       "\n",
       "    .dataframe tbody tr th {\n",
       "        vertical-align: top;\n",
       "    }\n",
       "\n",
       "    .dataframe thead th {\n",
       "        text-align: right;\n",
       "    }\n",
       "</style>\n",
       "<table border=\"1\" class=\"dataframe\">\n",
       "  <thead>\n",
       "    <tr style=\"text-align: right;\">\n",
       "      <th></th>\n",
       "      <th>raw_visit_counts</th>\n",
       "      <th>raw_visitor_counts</th>\n",
       "    </tr>\n",
       "    <tr>\n",
       "      <th>postal_code</th>\n",
       "      <th></th>\n",
       "      <th></th>\n",
       "    </tr>\n",
       "  </thead>\n",
       "  <tbody>\n",
       "    <tr>\n",
       "      <th>7002</th>\n",
       "      <td>26</td>\n",
       "      <td>21</td>\n",
       "    </tr>\n",
       "    <tr>\n",
       "      <th>10001</th>\n",
       "      <td>849828</td>\n",
       "      <td>519139</td>\n",
       "    </tr>\n",
       "    <tr>\n",
       "      <th>10002</th>\n",
       "      <td>292124</td>\n",
       "      <td>172663</td>\n",
       "    </tr>\n",
       "    <tr>\n",
       "      <th>10003</th>\n",
       "      <td>489874</td>\n",
       "      <td>294139</td>\n",
       "    </tr>\n",
       "    <tr>\n",
       "      <th>10004</th>\n",
       "      <td>209231</td>\n",
       "      <td>114893</td>\n",
       "    </tr>\n",
       "    <tr>\n",
       "      <th>...</th>\n",
       "      <td>...</td>\n",
       "      <td>...</td>\n",
       "    </tr>\n",
       "    <tr>\n",
       "      <th>12065</th>\n",
       "      <td>690</td>\n",
       "      <td>269</td>\n",
       "    </tr>\n",
       "    <tr>\n",
       "      <th>12734</th>\n",
       "      <td>4</td>\n",
       "      <td>4</td>\n",
       "    </tr>\n",
       "    <tr>\n",
       "      <th>12977</th>\n",
       "      <td>99</td>\n",
       "      <td>43</td>\n",
       "    </tr>\n",
       "    <tr>\n",
       "      <th>14516</th>\n",
       "      <td>47</td>\n",
       "      <td>32</td>\n",
       "    </tr>\n",
       "    <tr>\n",
       "      <th>14534</th>\n",
       "      <td>39</td>\n",
       "      <td>8</td>\n",
       "    </tr>\n",
       "  </tbody>\n",
       "</table>\n",
       "<p>255 rows × 2 columns</p>\n",
       "</div>"
      ],
      "text/plain": [
       "             raw_visit_counts  raw_visitor_counts\n",
       "postal_code                                      \n",
       "7002                       26                  21\n",
       "10001                  849828              519139\n",
       "10002                  292124              172663\n",
       "10003                  489874              294139\n",
       "10004                  209231              114893\n",
       "...                       ...                 ...\n",
       "12065                     690                 269\n",
       "12734                       4                   4\n",
       "12977                      99                  43\n",
       "14516                      47                  32\n",
       "14534                      39                   8\n",
       "\n",
       "[255 rows x 2 columns]"
      ]
     },
     "execution_count": 18,
     "metadata": {},
     "output_type": "execute_result"
    }
   ],
   "source": [
    "df_19_sum"
   ]
  },
  {
   "cell_type": "code",
   "execution_count": 19,
   "id": "2c7b2b9c",
   "metadata": {},
   "outputs": [],
   "source": [
    "df_19_bor = pd.read_csv(\"/Users/sophiazheng/Desktop/19agg.csv\")\n",
    "df_20_bor = pd.read_csv(\"/Users/sophiazheng/Desktop/20agg.csv\")\n",
    "df_21_bor = pd.read_csv(\"/Users/sophiazheng/Desktop/21agg.csv\")"
   ]
  },
  {
   "cell_type": "code",
   "execution_count": 22,
   "id": "3b5382de",
   "metadata": {},
   "outputs": [],
   "source": [
    "df_19_b = df_19_bor.groupby(\"j_borough\").sum()\n",
    "df_20_b = df_20_bor.groupby(\"j_borough\").sum()\n",
    "df_21_b = df_21_bor.groupby(\"j_borough\").sum()"
   ]
  },
  {
   "cell_type": "code",
   "execution_count": 23,
   "id": "1002aee6",
   "metadata": {},
   "outputs": [
    {
     "data": {
      "text/html": [
       "<div>\n",
       "<style scoped>\n",
       "    .dataframe tbody tr th:only-of-type {\n",
       "        vertical-align: middle;\n",
       "    }\n",
       "\n",
       "    .dataframe tbody tr th {\n",
       "        vertical-align: top;\n",
       "    }\n",
       "\n",
       "    .dataframe thead th {\n",
       "        text-align: right;\n",
       "    }\n",
       "</style>\n",
       "<table border=\"1\" class=\"dataframe\">\n",
       "  <thead>\n",
       "    <tr style=\"text-align: right;\">\n",
       "      <th></th>\n",
       "      <th>postal_code</th>\n",
       "      <th>raw_visit_counts</th>\n",
       "      <th>raw_visitor_counts</th>\n",
       "    </tr>\n",
       "    <tr>\n",
       "      <th>j_borough</th>\n",
       "      <th></th>\n",
       "      <th></th>\n",
       "      <th></th>\n",
       "    </tr>\n",
       "  </thead>\n",
       "  <tbody>\n",
       "    <tr>\n",
       "      <th>Bronx</th>\n",
       "      <td>261575</td>\n",
       "      <td>690187</td>\n",
       "      <td>345459</td>\n",
       "    </tr>\n",
       "    <tr>\n",
       "      <th>Brooklyn</th>\n",
       "      <td>415151</td>\n",
       "      <td>650153</td>\n",
       "      <td>319283</td>\n",
       "    </tr>\n",
       "    <tr>\n",
       "      <th>Manhattan</th>\n",
       "      <td>451740</td>\n",
       "      <td>11775593</td>\n",
       "      <td>6827905</td>\n",
       "    </tr>\n",
       "    <tr>\n",
       "      <th>Queens</th>\n",
       "      <td>648609</td>\n",
       "      <td>475529</td>\n",
       "      <td>210343</td>\n",
       "    </tr>\n",
       "    <tr>\n",
       "      <th>Staten Island</th>\n",
       "      <td>123681</td>\n",
       "      <td>226615</td>\n",
       "      <td>101572</td>\n",
       "    </tr>\n",
       "  </tbody>\n",
       "</table>\n",
       "</div>"
      ],
      "text/plain": [
       "               postal_code  raw_visit_counts  raw_visitor_counts\n",
       "j_borough                                                       \n",
       "Bronx               261575            690187              345459\n",
       "Brooklyn            415151            650153              319283\n",
       "Manhattan           451740          11775593             6827905\n",
       "Queens              648609            475529              210343\n",
       "Staten Island       123681            226615              101572"
      ]
     },
     "execution_count": 23,
     "metadata": {},
     "output_type": "execute_result"
    }
   ],
   "source": [
    "df_19_b"
   ]
  },
  {
   "cell_type": "code",
   "execution_count": 25,
   "id": "ff8a0dc2",
   "metadata": {},
   "outputs": [],
   "source": [
    "df_19_b.to_csv(\"/Users/sophiazheng/Desktop/april_2019_bor.csv\", index=True)\n",
    "df_20_b.to_csv(\"/Users/sophiazheng/Desktop/april_2020_bor.csv\", index=True)\n",
    "df_21_b.to_csv(\"/Users/sophiazheng/Desktop/april_2021_bor.csv\", index=True)"
   ]
  },
  {
   "cell_type": "code",
   "execution_count": null,
   "id": "06a32707",
   "metadata": {},
   "outputs": [],
   "source": []
  }
 ],
 "metadata": {
  "kernelspec": {
   "display_name": "Python 3 (ipykernel)",
   "language": "python",
   "name": "python3"
  },
  "language_info": {
   "codemirror_mode": {
    "name": "ipython",
    "version": 3
   },
   "file_extension": ".py",
   "mimetype": "text/x-python",
   "name": "python",
   "nbconvert_exporter": "python",
   "pygments_lexer": "ipython3",
   "version": "3.9.7"
  }
 },
 "nbformat": 4,
 "nbformat_minor": 5
}
